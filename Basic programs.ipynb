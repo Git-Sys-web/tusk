{
 "cells": [
  {
   "cell_type": "code",
   "execution_count": 1,
   "id": "6d31533a",
   "metadata": {},
   "outputs": [
    {
     "name": "stdout",
     "output_type": "stream",
     "text": [
      "14\n"
     ]
    }
   ],
   "source": [
    "#SUM OF TWO NUMBERS\n",
    "a=5\n",
    "b=9\n",
    "c=a+b\n",
    "print(c)"
   ]
  },
  {
   "cell_type": "code",
   "execution_count": 2,
   "id": "2f409d82",
   "metadata": {},
   "outputs": [
    {
     "name": "stdout",
     "output_type": "stream",
     "text": [
      "enter a number6\n",
      "even number\n"
     ]
    }
   ],
   "source": [
    "#EVEN OR ODD NUMBER\n",
    "a=int(input(\"enter a number\"));\n",
    "if(a%2==0):\n",
    "    print(\"even number\");\n",
    "else:\n",
    "    print(\"odd number\");"
   ]
  },
  {
   "cell_type": "code",
   "execution_count": 8,
   "id": "4f43831c",
   "metadata": {},
   "outputs": [
    {
     "name": "stdout",
     "output_type": "stream",
     "text": [
      "enter a number11\n",
      "enter a number100\n",
      "11\n",
      "13\n",
      "17\n",
      "19\n",
      "23\n",
      "29\n",
      "31\n",
      "37\n",
      "41\n",
      "43\n",
      "47\n",
      "53\n",
      "59\n",
      "61\n",
      "67\n",
      "71\n",
      "73\n",
      "79\n",
      "83\n",
      "89\n",
      "97\n"
     ]
    }
   ],
   "source": [
    "#prime numbers in an interval.\n",
    "a=int(input(\"enter a number\"));\n",
    "b=int(input(\"enter a number\"));\n",
    "for i in range(a,b+1):\n",
    "    if i>1:\n",
    "        for j in range(2,i):\n",
    "            if(i%j==0):\n",
    "                break\n",
    "        else:\n",
    "            print(i)\n",
    "\n",
    "  "
   ]
  },
  {
   "cell_type": "code",
   "execution_count": null,
   "id": "d6e48193",
   "metadata": {},
   "outputs": [],
   "source": [
    "#MAXIMUM OF TWO NUMBERS IN PYTHON\n",
    "a=int(input(\"enter a 1st number\"));\n",
    "b=int(input(\"enter a 2nd number\"));\n",
    "if(a>b):\n",
    "    print(a ,\"is maximum number\");\n",
    "else:\n",
    "    print(b, \"is maximum bumber\");\n"
   ]
  },
  {
   "cell_type": "code",
   "execution_count": null,
   "id": "70ae77cb",
   "metadata": {},
   "outputs": [],
   "source": [
    "#FACTORIAL OF A NUMBER\n",
    "def factorial(n):\n",
    "    return 1 if(n==1 or n==0) else n*factorial(n-1);\n",
    "num=5;\n",
    "print(\"factorial of\",num,\"is\",factorial(num))"
   ]
  },
  {
   "cell_type": "code",
   "execution_count": 11,
   "id": "becc89cd",
   "metadata": {},
   "outputs": [
    {
     "name": "stdout",
     "output_type": "stream",
     "text": [
      "enter a number0\n",
      "negative numbers doesn't exist:\n"
     ]
    }
   ],
   "source": [
    "#factorial of number using ieratives\n",
    "n=int(input(\"enter a number\"));\n",
    "fact=1;\n",
    "if n<0 or n==0:\n",
    "    print(\"negative numbers doesn't exist:\");\n",
    "elif n==1:\n",
    "    print(n);\n",
    "else:\n",
    "    while(n!=0):\n",
    "        fact=fact*n;\n",
    "        n=n-1;\n",
    "    print(fact);\n"
   ]
  },
  {
   "cell_type": "code",
   "execution_count": 13,
   "id": "27cd71e7",
   "metadata": {},
   "outputs": [
    {
     "name": "stdout",
     "output_type": "stream",
     "text": [
      "the principal is 8\n",
      "the time period is 6\n",
      "the rate of interest is 8\n",
      "the simple interest 3.84\n"
     ]
    },
    {
     "data": {
      "text/plain": [
       "3.84"
      ]
     },
     "execution_count": 13,
     "metadata": {},
     "output_type": "execute_result"
    }
   ],
   "source": [
    "#Simple interest \n",
    "def simple_interest(p,t,r):\n",
    "    print('the principal is',p);\n",
    "    print('the time period is',t);\n",
    "    print('the rate of interest is',r);\n",
    "    si=(p*t*r)/100;\n",
    "    print('the simple interest',si);\n",
    "    return si;\n",
    "simple_interest(8,6,8)"
   ]
  },
  {
   "cell_type": "code",
   "execution_count": 22,
   "id": "b4dde669",
   "metadata": {},
   "outputs": [
    {
     "name": "stdout",
     "output_type": "stream",
     "text": [
      "the compound interest is 4.694994583552004\n"
     ]
    },
    {
     "data": {
      "text/plain": [
       "4.694994583552004"
      ]
     },
     "execution_count": 22,
     "metadata": {},
     "output_type": "execute_result"
    }
   ],
   "source": [
    "#Compond Interest\n",
    "def compound_interest(p,t,r):\n",
    "    Amount=p* (pow((1+(r/100)),t));\n",
    "    ci=Amount-p\n",
    "    print('the compound interest is',ci);\n",
    "    return ci;\n",
    "compound_interest(8,6,8)"
   ]
  },
  {
   "cell_type": "code",
   "execution_count": 11,
   "id": "0d48d10d",
   "metadata": {},
   "outputs": [
    {
     "name": "stdout",
     "output_type": "stream",
     "text": [
      "enter a number7\n",
      "7 is a prime number\n"
     ]
    }
   ],
   "source": [
    "#Check whether the given number is prime or not.\n",
    "num=int(input(\"enter a number\"));\n",
    "if num>1:\n",
    "    for i in range(2,num+1):\n",
    "        if(num%i==0):\n",
    "            print(num,\"is not a prime number\")\n",
    "        else:\n",
    "            print(num,\"is a prime number\")  \n",
    "            break\n",
    "else:\n",
    "    print(num,\"is not a prime number\");\n",
    "        \n",
    "    "
   ]
  },
  {
   "cell_type": "code",
   "execution_count": 3,
   "id": "b9e08f1d",
   "metadata": {},
   "outputs": [
    {
     "name": "stdout",
     "output_type": "stream",
     "text": [
      "enter a number234\n",
      "reverse of a number 432\n"
     ]
    }
   ],
   "source": [
    "n=int(input(\"enter a number\"));\n",
    "result=0;\n",
    "temp=n;\n",
    "while(temp>0):\n",
    "    digit=temp%10;\n",
    "    result=(result*10)+digit;\n",
    "    temp=temp//10;\n",
    "print(\"reverse of a number\",result)\n",
    "    "
   ]
  },
  {
   "cell_type": "code",
   "execution_count": 7,
   "id": "1196e4b5",
   "metadata": {},
   "outputs": [
    {
     "name": "stdout",
     "output_type": "stream",
     "text": [
      "enter a number151\n",
      "is a palindrome\n"
     ]
    }
   ],
   "source": [
    "n=int(input(\"enter a number\"));\n",
    "result=0;\n",
    "temp=n;\n",
    "while(temp>0):\n",
    "    digit=temp%10;\n",
    "    result=result*10+digit;\n",
    "    temp=temp//10;\n",
    "if (n==result):\n",
    "    print(\"is a palindrome\");\n",
    "else: \n",
    "    print(\"is not a palindrome\");"
   ]
  },
  {
   "cell_type": "code",
   "execution_count": null,
   "id": "e7979179",
   "metadata": {},
   "outputs": [],
   "source": [
    "num = int(input(\"Enter a number: \"))\n",
    "sum = 0;\n",
    "temp = num;\n",
    "while temp > 0:\n",
    "    digit = temp % 10;\n",
    "    sum += digit ** 3;\n",
    "    temp //= 10\n",
    "if num == sum:\n",
    "   print(num,\"is an Armstrong number\")\n",
    "else:\n",
    "   print(num,\"is not an Armstrong number\")"
   ]
  },
  {
   "cell_type": "code",
   "execution_count": null,
   "id": "b0ee193d",
   "metadata": {},
   "outputs": [],
   "source": []
  }
 ],
 "metadata": {
  "kernelspec": {
   "display_name": "Python 3",
   "language": "python",
   "name": "python3"
  },
  "language_info": {
   "codemirror_mode": {
    "name": "ipython",
    "version": 3
   },
   "file_extension": ".py",
   "mimetype": "text/x-python",
   "name": "python",
   "nbconvert_exporter": "python",
   "pygments_lexer": "ipython3",
   "version": "3.8.8"
  }
 },
 "nbformat": 4,
 "nbformat_minor": 5
}
